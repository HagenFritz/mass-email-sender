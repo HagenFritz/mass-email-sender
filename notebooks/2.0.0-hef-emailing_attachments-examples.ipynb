{
 "cells": [
  {
   "cell_type": "markdown",
   "id": "4829874b",
   "metadata": {},
   "source": [
    "# Sending Emails with Attachments to Employees in a List\n",
    "We want to be able to send people their schedules given their email addresses in an automated fashion to reduce the workload on the office staff. This process can be taken care of by the `EmailWithAttachment` class."
   ]
  },
  {
   "cell_type": "markdown",
   "id": "c5b4f5f0",
   "metadata": {},
   "source": [
    "### Package Import"
   ]
  },
  {
   "cell_type": "code",
   "execution_count": 11,
   "id": "1ae7f7e1",
   "metadata": {},
   "outputs": [
    {
     "name": "stdout",
     "output_type": "stream",
     "text": [
      "The autoreload extension is already loaded. To reload it, use:\n",
      "  %reload_ext autoreload\n"
     ]
    }
   ],
   "source": [
    "import sys\n",
    "sys.path.append('../')\n",
    "\n",
    "import send_schedule\n",
    "\n",
    "import warnings\n",
    "warnings.filterwarnings('ignore')\n",
    "\n",
    "%load_ext autoreload\n",
    "%autoreload 2"
   ]
  },
  {
   "cell_type": "markdown",
   "id": "86272476",
   "metadata": {},
   "source": [
    "---"
   ]
  },
  {
   "cell_type": "markdown",
   "id": "ffccd745",
   "metadata": {},
   "source": [
    "# Table of Contents\n",
    "1. [Creating an `EmailWithAttachment` object](#creating)\n",
    "2. [Methods](#methods)"
   ]
  },
  {
   "cell_type": "markdown",
   "id": "95d55b35",
   "metadata": {},
   "source": [
    "---"
   ]
  },
  {
   "cell_type": "markdown",
   "id": "ff898765",
   "metadata": {},
   "source": [
    "<a id=\"creating\"></a>"
   ]
  },
  {
   "cell_type": "markdown",
   "id": "d1e9621a",
   "metadata": {},
   "source": [
    "# `EmailWithAttachment` Object\n",
    "The `EmailWithAttachment` object is instantiated by including one parameter:\n",
    "* `employee_email_list`: filename that includes the tutor names and their corresponding email addresses. The program assumes a `.txt` file extension."
   ]
  },
  {
   "cell_type": "code",
   "execution_count": 19,
   "id": "202d9923",
   "metadata": {},
   "outputs": [],
   "source": [
    "e = send_schedule.EmailWithAttachment(\"Employees\")"
   ]
  },
  {
   "cell_type": "markdown",
   "id": "ea4da5c7",
   "metadata": {},
   "source": [
    "The format of the original file used by Austin Learning Center is in a non-standard format (at least for Python import) but I did not want to edit it. The file can be viewed on the Github repository."
   ]
  },
  {
   "cell_type": "markdown",
   "id": "9bfa9cf0",
   "metadata": {},
   "source": [
    "---"
   ]
  },
  {
   "cell_type": "markdown",
   "id": "4838741d",
   "metadata": {},
   "source": [
    "<a id=\"methods\"></a>"
   ]
  },
  {
   "cell_type": "markdown",
   "id": "5b54c555",
   "metadata": {},
   "source": [
    "# Methods\n",
    "Besides the `__init__` method, there is only _one_ method included in the `EmailWithAttachment` class."
   ]
  },
  {
   "cell_type": "markdown",
   "id": "5952591e",
   "metadata": {},
   "source": [
    "### `email_attachment`\n",
    "This method emails the list of employees with their corresponding attachment (named after their employee name) and requires no inputs!"
   ]
  },
  {
   "cell_type": "code",
   "execution_count": 20,
   "id": "dacc4975",
   "metadata": {},
   "outputs": [
    {
     "name": "stderr",
     "output_type": "stream",
     "text": [
      "06/18/22 16:03:34: INFO:\tRDaniell\n",
      "06/18/22 16:03:34: INFO:\t--------\n",
      "06/18/22 16:03:34: INFO:\tEmployee Name: RDaniell\n",
      "06/18/22 16:03:34: INFO:\tEmail Address: rylanadaniell@gmail.com\n",
      "06/18/22 16:03:34: INFO:\tLooking for file: RDaniell.pdf\n",
      "06/18/22 16:03:34: INFO:\tSuccess: email sent\n",
      "06/18/22 16:03:34: INFO:\tHFritz\n",
      "06/18/22 16:03:34: INFO:\t------\n",
      "06/18/22 16:03:34: INFO:\tEmployee Name: HFritz\n",
      "06/18/22 16:03:34: INFO:\tEmail Address: hagenfritz@gmail.com\n",
      "06/18/22 16:03:34: INFO:\tLooking for file: HFritz.pdf\n",
      "06/18/22 16:03:35: INFO:\tSuccess: email sent\n",
      "06/18/22 16:03:35: INFO:\tWFritz\n",
      "06/18/22 16:03:35: INFO:\t------\n",
      "06/18/22 16:03:35: INFO:\tEmployee Name: WFritz\n",
      "06/18/22 16:03:35: INFO:\tEmail Address: hagenfritz@utexas.edu\n",
      "06/18/22 16:03:35: INFO:\tLooking for file: WFritz.pdf\n",
      "06/18/22 16:03:36: INFO:\tSuccess: email sent\n",
      "06/18/22 16:03:36: INFO:\tJSmith\n",
      "06/18/22 16:03:36: INFO:\t------\n",
      "06/18/22 16:03:36: INFO:\tEmployee Name: JSmith\n",
      "06/18/22 16:03:36: INFO:\tEmail Address: bademail@notawebsite.cm\n",
      "06/18/22 16:03:36: INFO:\tLooking for file: JSmith.pdf\n",
      "06/18/22 16:03:37: INFO:\tSuccess: email sent\n",
      "06/18/22 16:03:37: INFO:\tOTutor\n",
      "06/18/22 16:03:37: INFO:\t------\n",
      "06/18/22 16:03:37: INFO:\tEmployee Name: OTutor\n",
      "06/18/22 16:03:37: INFO:\tEmail Address: oldtutor@gmail.com\n",
      "06/18/22 16:03:37: INFO:\tLooking for file: OTutor.pdf\n",
      "06/18/22 16:03:37: WARNING:\tError: No file for OTutor in /Users/hagenfritz/Documents/mass-email-sender/data/processed/\n",
      "06/18/22 16:03:37: INFO:\t------\n"
     ]
    }
   ],
   "source": [
    "e.email_attachment()"
   ]
  },
  {
   "cell_type": "markdown",
   "id": "7d38e23f",
   "metadata": {},
   "source": [
    "---"
   ]
  },
  {
   "cell_type": "markdown",
   "id": "c415398d",
   "metadata": {},
   "source": [
    "The stream and file output provide a log of the process and note any errors with sending the emails out. \n",
    "\n",
    "Note that if an employee provides an incorrect email address, the program will _not_ catch this error which is evident by the test case with Employee `JSmith` whose email has been purposefully mispelled and does not belong to a valid email server. "
   ]
  },
  {
   "cell_type": "markdown",
   "id": "3d189cd3",
   "metadata": {},
   "source": [
    "#### Email Body\n",
    "This email body is provided in a text file which can be updated to the user's wishes. The file `email_body.txt` is provided in the `/data/raw/` directory. "
   ]
  },
  {
   "cell_type": "code",
   "execution_count": 21,
   "id": "efbda6e0",
   "metadata": {},
   "outputs": [
    {
     "name": "stdout",
     "output_type": "stream",
     "text": [
      "Hello Hagen,\n",
      "\n",
      "Attached is your ALC schedule.  If you have any questions about your schedule, please let us know.\n",
      "\n",
      "Have a great day,\n",
      "The ALC office staff\n",
      "\n",
      "\n",
      "Answers to Schedule FAQ'S:\n",
      "\n",
      "+     During the school year, the schedule goes out every day Sunday through Thursday.  During the summer, the schedule goes out every day Monday through Friday.  If you do not get a schedule by 9pm on a day that you should have received it, please contact the office.\n",
      "\n",
      "+     Your schedule shows the upcoming 7 days as a preview, but schedules may/often change until the day prior.\n",
      "\n",
      "+     If you see an error in your schedule (i.e. a student that you were expecting is not on your schedule, or a student that you think should be cancelled is still on your schedule), please contact the office.\n",
      "\n",
      "+     Cancelled appointments will just disappear from your schedule.\n",
      "\n",
      "+     Please read your schedule carefully.  Schedules constantly change and you should double check the dates and times with each new daily schedule or you may show up on a day or time that you do not have students.  For example, if a regular appointment slides his or her time up slightly, which happens often, you may not notice if you do not read your schedule very carefully.\n",
      "\n",
      "+     Please pay attention to the dates on the schedule.  The first date listed is the next day that you are scheduled, but this may not be the next calendar day.\n",
      "\n",
      "+     If you have requested a specific time off and it has been approved, you will notice an OFF on your schedule.  Students might also still be scheduled in that time; we do not remove appointments until we have confirmed that change with the client. \n",
      "\n",
      "+     We put as much information as possible about a particular appointment on your schedule.  Please let us know if you wish to obtain more information from a parent/teacher/student prior to your appointment.\n",
      "\n",
      "+     Please be sure to note if your student has a custom folder that should be pulled for the appointment.  This includes sessions that are noted with study skills, SAT/ACT or other test prep, or custom plan.\n",
      "\n",
      "+     If you see that you are double-booked, it is likely a student on a waiting list or a group appointment.  If you suspect any errors in the schedule, please do notify us.\n",
      "\n",
      "+     Please note that the last few minutes of each session is designated to complete a session summary form (SSF) with your student.  Some parents will wish to speak with a tutor during that time for progress updates, and we will note it accordingly.  If so, please do the SSF a bit earlier in the session.\n",
      "\n",
      "+     We are a team and are all here to make the appointments on your schedule a success!  Please let us know if there is anything that we can do to support you.   \n"
     ]
    }
   ],
   "source": [
    "with open(\"../data/raw/email_body.txt\") as f:\n",
    "    lines = f.read()\n",
    "print(lines.format(name=\"Hagen\"))"
   ]
  },
  {
   "cell_type": "markdown",
   "id": "db2712b7",
   "metadata": {},
   "source": [
    "---"
   ]
  }
 ],
 "metadata": {
  "kernelspec": {
   "display_name": "Python 3",
   "language": "python",
   "name": "python3"
  },
  "language_info": {
   "codemirror_mode": {
    "name": "ipython",
    "version": 3
   },
   "file_extension": ".py",
   "mimetype": "text/x-python",
   "name": "python",
   "nbconvert_exporter": "python",
   "pygments_lexer": "ipython3",
   "version": "3.8.8"
  }
 },
 "nbformat": 4,
 "nbformat_minor": 5
}
