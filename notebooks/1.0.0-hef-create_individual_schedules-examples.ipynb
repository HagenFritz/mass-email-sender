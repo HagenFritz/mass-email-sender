{
 "cells": [
  {
   "cell_type": "markdown",
   "id": "99e93a42",
   "metadata": {},
   "source": [
    "# Create Individualized Schedules From Aggregate PDF\n",
    "For some reason, the Customer Appointment Manager (CAM) software does not allow users to export individualized schedules per employee. Rather, you are forced to export a single PDF that contains the schedules for all employees. The solution is to manually split the PDFs by checking the page content to see if certain criteria are met. Then we can determine which pages belong to which employees, and split the original document.\n",
    "\n",
    "The `CreateSchedules` class within the `send_schedule.py` script handles the separation process, creating indvidualized PDFs named for the tutor in the `/data/processed/` directory. The individual methods are discussed in more detail below."
   ]
  },
  {
   "cell_type": "markdown",
   "id": "d580f6b6",
   "metadata": {},
   "source": [
    "### Package Import"
   ]
  },
  {
   "cell_type": "code",
   "execution_count": 22,
   "id": "f1169032",
   "metadata": {},
   "outputs": [
    {
     "name": "stdout",
     "output_type": "stream",
     "text": [
      "The autoreload extension is already loaded. To reload it, use:\n",
      "  %reload_ext autoreload\n"
     ]
    }
   ],
   "source": [
    "import sys\n",
    "sys.path.append('../')\n",
    "\n",
    "import send_schedule\n",
    "\n",
    "import warnings\n",
    "warnings.filterwarnings('ignore')\n",
    "\n",
    "%load_ext autoreload\n",
    "%autoreload 2"
   ]
  },
  {
   "cell_type": "markdown",
   "id": "41b19f44",
   "metadata": {},
   "source": [
    "---"
   ]
  },
  {
   "cell_type": "markdown",
   "id": "3595c27e",
   "metadata": {},
   "source": [
    "# Table of Contents\n",
    "1. [Creating a `CreateSchedules` object](#creating)\n",
    "2. [Methods](#methods)\n",
    "    1. `get_pages_per_tutor`\n",
    "    2. `split_pdf`"
   ]
  },
  {
   "cell_type": "markdown",
   "id": "1934b1e7",
   "metadata": {},
   "source": [
    "---"
   ]
  },
  {
   "cell_type": "markdown",
   "id": "58b5b337",
   "metadata": {},
   "source": [
    "# `CreateSchedules` Object\n",
    "A `CreateSchedules` object is instantiated by requiring one input parameter:\n",
    "* `aggregate_schedule`: string that represents the name of the PDF file that contains all the tutor schedules which should be split. _Do not include the file extension_ -- this should be `.pdf`."
   ]
  },
  {
   "cell_type": "code",
   "execution_count": 3,
   "id": "cbe1851a",
   "metadata": {},
   "outputs": [],
   "source": [
    "creator = send_schedule.CreateSchedules(\"Dummy Schedule\")"
   ]
  },
  {
   "cell_type": "markdown",
   "id": "f0c31186",
   "metadata": {},
   "source": [
    "The filename will almost _always_ be \"ALC Schedule\" and is the default name used when running from the CLI or as an executable. \n",
    "\n",
    "Once created, the `CreateSchedules` object will generate two class variables:\n",
    "* `data_dir`: the absolute path to the `/data/` directory \n",
    "* `pdf`: the PDF object from the  PyPDF2.PdfFileReader class\n",
    "\n",
    "We can examine these two things below:"
   ]
  },
  {
   "cell_type": "markdown",
   "id": "2028953e",
   "metadata": {},
   "source": [
    "### `data_dir`"
   ]
  },
  {
   "cell_type": "code",
   "execution_count": 4,
   "id": "1d377ee9",
   "metadata": {},
   "outputs": [
    {
     "data": {
      "text/plain": [
       "'/Users/hagenfritz/Documents/mass-email-sender/data'"
      ]
     },
     "execution_count": 4,
     "metadata": {},
     "output_type": "execute_result"
    }
   ],
   "source": [
    "creator.data_dir"
   ]
  },
  {
   "cell_type": "markdown",
   "id": "8ca3da27",
   "metadata": {},
   "source": [
    "An important note is that this script takes advantage of the directory structure so no changes should be made to how the directories and files are organized. This path will update based on your system when you clone the project. "
   ]
  },
  {
   "cell_type": "markdown",
   "id": "4317caf3",
   "metadata": {},
   "source": [
    "### `pdf`"
   ]
  },
  {
   "cell_type": "code",
   "execution_count": 5,
   "id": "73f6c5d3",
   "metadata": {},
   "outputs": [
    {
     "data": {
      "text/plain": [
       "<PyPDF2._reader.PdfFileReader at 0x7fb2c6ca7c10>"
      ]
     },
     "execution_count": 5,
     "metadata": {},
     "output_type": "execute_result"
    }
   ],
   "source": [
    "creator.pdf"
   ]
  },
  {
   "cell_type": "markdown",
   "id": "29790e1b",
   "metadata": {},
   "source": [
    "Not much here to see, but there are built in methods from the PyPDF2 class that allow us to get the number of pages and the page content."
   ]
  },
  {
   "cell_type": "markdown",
   "id": "19b1c2d5",
   "metadata": {},
   "source": [
    "---"
   ]
  },
  {
   "cell_type": "markdown",
   "id": "babcefa8",
   "metadata": {},
   "source": [
    "<a id=\"methods\"></a>"
   ]
  },
  {
   "cell_type": "markdown",
   "id": "ec4a4961",
   "metadata": {},
   "source": [
    "# Methods\n",
    "There are only two methods contained in the `CreateSchedules` class which are described below\""
   ]
  },
  {
   "cell_type": "markdown",
   "id": "2919bd9e",
   "metadata": {},
   "source": [
    "## `get_pages_per_tutor`\n",
    "This method returns a `dict` where the keys are the individual tutors while the values correspond to the pages that their schedule details are on. There are _no_ input parameters required."
   ]
  },
  {
   "cell_type": "code",
   "execution_count": 19,
   "id": "e96ae802",
   "metadata": {},
   "outputs": [
    {
     "name": "stdout",
     "output_type": "stream",
     "text": [
      "{'HFritz': [0], 'WFritz': [1, 2], 'JSmith': [3, 4], 'RDaniell': [5]}\n"
     ]
    }
   ],
   "source": [
    "pages_per_tutor = creator.get_pages_per_tutor()\n",
    "print(pages_per_tutor)"
   ]
  },
  {
   "cell_type": "markdown",
   "id": "cfd78e32",
   "metadata": {},
   "source": [
    "The output is shown above. Note, that pages are zero-indexed compared to our more traditional one-indexing. "
   ]
  },
  {
   "cell_type": "markdown",
   "id": "5b43db74",
   "metadata": {},
   "source": [
    "## `split_pdf`\n",
    "This method uses the output from `get_pages_per_tutor` to allocate pages to each tutor's PDF, ultimately creating the individualized PDFs. There is only one input required:\n",
    "* `pages_per_tutor`: keys as tutors with values as the pages of the original document corresponding to them"
   ]
  },
  {
   "cell_type": "code",
   "execution_count": 20,
   "id": "821d8cc2",
   "metadata": {},
   "outputs": [],
   "source": [
    "creator.split_pdf(pages_per_tutor=pages_per_tutor)"
   ]
  },
  {
   "cell_type": "markdown",
   "id": "01d3480f",
   "metadata": {},
   "source": [
    "Nothing is returned. Rather, the individual PDFs can be seen in the `/data/processed/` directory."
   ]
  },
  {
   "cell_type": "code",
   "execution_count": 21,
   "id": "94b091f5",
   "metadata": {},
   "outputs": [
    {
     "name": "stdout",
     "output_type": "stream",
     "text": [
      "RDaniell.pdf\n",
      "JSmith.pdf\n",
      "WFritz.pdf\n",
      "HFritz.pdf\n"
     ]
    }
   ],
   "source": [
    "import os\n",
    "for file in os.listdir(\"../data/processed/\"):\n",
    "    if file.endswith(\"pdf\"):\n",
    "        print(file)"
   ]
  },
  {
   "cell_type": "markdown",
   "id": "f04b44ad",
   "metadata": {},
   "source": [
    "---"
   ]
  }
 ],
 "metadata": {
  "kernelspec": {
   "display_name": "Python 3",
   "language": "python",
   "name": "python3"
  },
  "language_info": {
   "codemirror_mode": {
    "name": "ipython",
    "version": 3
   },
   "file_extension": ".py",
   "mimetype": "text/x-python",
   "name": "python",
   "nbconvert_exporter": "python",
   "pygments_lexer": "ipython3",
   "version": "3.8.8"
  }
 },
 "nbformat": 4,
 "nbformat_minor": 5
}
