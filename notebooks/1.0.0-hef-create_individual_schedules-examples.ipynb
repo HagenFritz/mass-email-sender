{
 "cells": [
  {
   "cell_type": "markdown",
   "id": "99e93a42",
   "metadata": {},
   "source": [
    "# Create Individualized Schedules From Aggregate PDF\n",
    "For some reason, the Customer Appointment Manager (CAM) software does not allow users to export individualized schedules per employee. Rather, you are forced to export a single PDF that contains the schedules for all employees. The solution is to manually split the PDFs by checking the page content to see if certain criteria are met. Then we can determine which pages belong to which employees, and split the original document.\n",
    "\n",
    "The `CreateSchedules` class within the `send_schedule.py` script handles the separation process, creating indvidualized PDFs named for the tutor in the `/data/processed/` directory. The individual methods are discussed in more detail below."
   ]
  },
  {
   "cell_type": "markdown",
   "id": "d580f6b6",
   "metadata": {},
   "source": [
    "### Package Import"
   ]
  },
  {
   "cell_type": "code",
   "execution_count": 1,
   "id": "f1169032",
   "metadata": {},
   "outputs": [],
   "source": [
    "import sys\n",
    "sys.path.append('../')\n",
    "\n",
    "import send_schedule\n",
    "\n",
    "import warnings\n",
    "warnings.filterwarnings('ignore')\n",
    "\n",
    "%load_ext autoreload\n",
    "%autoreload 2"
   ]
  },
  {
   "cell_type": "markdown",
   "id": "41b19f44",
   "metadata": {},
   "source": [
    "---"
   ]
  },
  {
   "cell_type": "markdown",
   "id": "3595c27e",
   "metadata": {},
   "source": [
    "# Table of Contents\n",
    "1. [Creating a `CreateSchedules` object](#creating)\n",
    "2. [Methods](#methods)\n",
    "    1. `get_pages_per_tutor`\n",
    "    2. `split_pdf`"
   ]
  },
  {
   "cell_type": "markdown",
   "id": "1934b1e7",
   "metadata": {},
   "source": [
    "---"
   ]
  },
  {
   "cell_type": "markdown",
   "id": "58b5b337",
   "metadata": {},
   "source": [
    "# `CreateSchedules` Object\n",
    "A `CreateSchedules` object is instantiated by requiring one input parameter:\n",
    "* `aggregate_schedule`: string that represents the name of the PDF file that contains all the tutor schedules which should be split. _Do not include the file extension_ -- this should be `.pdf`."
   ]
  },
  {
   "cell_type": "code",
   "execution_count": 11,
   "id": "cbe1851a",
   "metadata": {},
   "outputs": [],
   "source": [
    "creator = send_schedule.CreateSchedules(\"ALC Schedule\")"
   ]
  },
  {
   "cell_type": "markdown",
   "id": "f0c31186",
   "metadata": {},
   "source": [
    "The filename will almost _always_ be \"ALC Schedule\" and is the default name used when running from the CLI or as an executable. \n",
    "\n",
    "Once created, the `CreateSchedules` object will generate two class variables:\n",
    "* `path_to_top`: the absolute path to the top of the directory \n",
    "* `pdf`: the PDF object from the  PyPDF2.PdfFileReader class\n",
    "\n",
    "We can examine these two things below:"
   ]
  },
  {
   "cell_type": "markdown",
   "id": "2028953e",
   "metadata": {},
   "source": [
    "### `path_to_top`"
   ]
  },
  {
   "cell_type": "code",
   "execution_count": 6,
   "id": "1d377ee9",
   "metadata": {},
   "outputs": [
    {
     "data": {
      "text/plain": [
       "'/Users/hagenfritz/Documents/mass-email-sender'"
      ]
     },
     "execution_count": 6,
     "metadata": {},
     "output_type": "execute_result"
    }
   ],
   "source": [
    "creator.path_to_top"
   ]
  },
  {
   "cell_type": "markdown",
   "id": "8ca3da27",
   "metadata": {},
   "source": [
    "An important note is that this script takes advantage of the directory structure so no changes should be made to how the directories and files are organized. This path will update based on your system when you clone the project. "
   ]
  },
  {
   "cell_type": "markdown",
   "id": "4317caf3",
   "metadata": {},
   "source": [
    "### `pdf`"
   ]
  },
  {
   "cell_type": "code",
   "execution_count": 7,
   "id": "73f6c5d3",
   "metadata": {},
   "outputs": [
    {
     "data": {
      "text/plain": [
       "<PyPDF2._reader.PdfFileReader at 0x7fad35876fa0>"
      ]
     },
     "execution_count": 7,
     "metadata": {},
     "output_type": "execute_result"
    }
   ],
   "source": [
    "creator.pdf"
   ]
  },
  {
   "cell_type": "markdown",
   "id": "29790e1b",
   "metadata": {},
   "source": [
    "Not much here to see, but there are built in methods from the PyPDF2 class that allow us to get the number of pages and the page content."
   ]
  },
  {
   "cell_type": "markdown",
   "id": "19b1c2d5",
   "metadata": {},
   "source": [
    "---"
   ]
  },
  {
   "cell_type": "markdown",
   "id": "babcefa8",
   "metadata": {},
   "source": [
    "<a id=\"methods\"></a>"
   ]
  },
  {
   "cell_type": "markdown",
   "id": "ec4a4961",
   "metadata": {},
   "source": [
    "# Methods\n",
    "There are only two methods contained in the `CreateSchedules` class which are described below\""
   ]
  },
  {
   "cell_type": "markdown",
   "id": "2919bd9e",
   "metadata": {},
   "source": [
    "## `get_pages_per_tutor`\n",
    "This method returns a `dict` where the keys are the individual tutors while the values correspond to the pages that their schedule details are on. There are _no_ input parameters required."
   ]
  },
  {
   "cell_type": "code",
   "execution_count": 14,
   "id": "e96ae802",
   "metadata": {},
   "outputs": [
    {
     "name": "stdout",
     "output_type": "stream",
     "text": [
      "{'JAguilar-Landaverde': [0], 'AAmeel': [1, 2, 3], 'ABanerjee': [4], 'ABhakare': [5, 6], 'RBurkhalter': [7, 8, 9], 'ACarter': [10, 11], 'EChen': [12, 13, 14], 'ICorona': [15, 16], 'CDarwin': [17, 18], 'DGarzon': [19, 20], 'HHalford': [21], 'PHall': [22], 'SHoberman': [23], 'NJarvis': [24, 25, 26, 27, 28], 'SKeating': [29], 'JLenich': [30, 31], 'HMassery': [32, 33, 34], 'CMcConnell': [35], 'JMcConnell': [36], 'JMoritz': [37, 38, 39], 'EMorris': [40], 'ANowasky': [41, 42, 43], 'BParker': [44], 'RPolavarapu': [45], 'SPrater': [46, 47, 48], 'SRajendran': [49, 50], 'LSchaefer': [51], 'MScruggs': [52], 'JSmith': [53], 'WSparkman': [54], 'BSwanson': [55], 'AThomas': [56], 'JThomas': [57], 'QTimmers': [58], 'AUmashankar': [59], 'MWilliams': [60]}\n"
     ]
    }
   ],
   "source": [
    "pages_per_tutor = creator.get_pages_per_tutor()\n",
    "print(pages_per_tutor)"
   ]
  },
  {
   "cell_type": "markdown",
   "id": "cfd78e32",
   "metadata": {},
   "source": [
    "The output is shown above. Note, that pages are zero-indexed compared to our more traditional one-indexing. "
   ]
  },
  {
   "cell_type": "markdown",
   "id": "5b43db74",
   "metadata": {},
   "source": [
    "## `split_pdf`\n",
    "This method uses the output from `get_pages_per_tutor` to allocate pages to each tutor's PDF, ultimately creating the individualized PDFs. There is only one input required:\n",
    "* `pages_per_tutor`: keys as tutors with values as the pages of the original document corresponding to them"
   ]
  },
  {
   "cell_type": "code",
   "execution_count": 15,
   "id": "821d8cc2",
   "metadata": {},
   "outputs": [],
   "source": [
    "creator.split_pdf(pages_per_tutor=pages_per_tutor)"
   ]
  },
  {
   "cell_type": "markdown",
   "id": "01d3480f",
   "metadata": {},
   "source": [
    "Nothing is returned. Rather, the individual PDFs can be seen in the `/data/processed/` directory."
   ]
  },
  {
   "cell_type": "code",
   "execution_count": 16,
   "id": "94b091f5",
   "metadata": {},
   "outputs": [
    {
     "ename": "FileNotFoundError",
     "evalue": "[Errno 2] No such file or directory: '../data/processed/'",
     "output_type": "error",
     "traceback": [
      "\u001b[0;31m---------------------------------------------------------------------------\u001b[0m",
      "\u001b[0;31mFileNotFoundError\u001b[0m                         Traceback (most recent call last)",
      "\u001b[0;32m<ipython-input-16-3aaff7efcb66>\u001b[0m in \u001b[0;36m<module>\u001b[0;34m\u001b[0m\n\u001b[1;32m      1\u001b[0m \u001b[0;32mimport\u001b[0m \u001b[0mos\u001b[0m\u001b[0;34m\u001b[0m\u001b[0;34m\u001b[0m\u001b[0m\n\u001b[0;32m----> 2\u001b[0;31m \u001b[0;32mfor\u001b[0m \u001b[0mfile\u001b[0m \u001b[0;32min\u001b[0m \u001b[0mos\u001b[0m\u001b[0;34m.\u001b[0m\u001b[0mlistdir\u001b[0m\u001b[0;34m(\u001b[0m\u001b[0;34m\"../data/processed/\"\u001b[0m\u001b[0;34m)\u001b[0m\u001b[0;34m:\u001b[0m\u001b[0;34m\u001b[0m\u001b[0;34m\u001b[0m\u001b[0m\n\u001b[0m\u001b[1;32m      3\u001b[0m     \u001b[0;32mif\u001b[0m \u001b[0mfile\u001b[0m\u001b[0;34m.\u001b[0m\u001b[0mendswith\u001b[0m\u001b[0;34m(\u001b[0m\u001b[0;34m\"pdf\"\u001b[0m\u001b[0;34m)\u001b[0m\u001b[0;34m:\u001b[0m\u001b[0;34m\u001b[0m\u001b[0;34m\u001b[0m\u001b[0m\n\u001b[1;32m      4\u001b[0m         \u001b[0mprint\u001b[0m\u001b[0;34m(\u001b[0m\u001b[0mfile\u001b[0m\u001b[0;34m)\u001b[0m\u001b[0;34m\u001b[0m\u001b[0;34m\u001b[0m\u001b[0m\n",
      "\u001b[0;31mFileNotFoundError\u001b[0m: [Errno 2] No such file or directory: '../data/processed/'"
     ]
    }
   ],
   "source": [
    "import os\n",
    "for file in os.listdir(\"../processed_schedules/\"):\n",
    "    if file.endswith(\"pdf\"):\n",
    "        print(file)"
   ]
  },
  {
   "cell_type": "markdown",
   "id": "f04b44ad",
   "metadata": {},
   "source": [
    "---"
   ]
  }
 ],
 "metadata": {
  "kernelspec": {
   "display_name": "Python 3.8.8 ('base')",
   "language": "python",
   "name": "python3"
  },
  "language_info": {
   "codemirror_mode": {
    "name": "ipython",
    "version": 3
   },
   "file_extension": ".py",
   "mimetype": "text/x-python",
   "name": "python",
   "nbconvert_exporter": "python",
   "pygments_lexer": "ipython3",
   "version": "3.8.8"
  },
  "vscode": {
   "interpreter": {
    "hash": "4fc815e1b9a3cf0de540f3f398564ef27b1d50bd94ee39821f4df0deea31ba38"
   }
  }
 },
 "nbformat": 4,
 "nbformat_minor": 5
}
